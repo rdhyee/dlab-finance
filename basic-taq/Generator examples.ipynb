{
 "cells": [
  {
   "cell_type": "markdown",
   "metadata": {},
   "source": [
    "# Using generators to get numpy chunks out of TAQ data"
   ]
  },
  {
   "cell_type": "code",
   "execution_count": 1,
   "metadata": {
    "collapsed": false
   },
   "outputs": [],
   "source": [
    "from glob import glob\n",
    "import raw_taq\n",
    "import pandas as pd"
   ]
  },
  {
   "cell_type": "code",
   "execution_count": 2,
   "metadata": {
    "collapsed": false
   },
   "outputs": [],
   "source": [
    "import numpy as np\n",
    "from statistics import mode\n",
    "\n",
    "def print_stats(chunk):\n",
    "    #find the max bid price\n",
    "    max_price = max(chunk['Bid_Price'])\n",
    "\n",
    "    #find the min bid price\n",
    "    min_price = min(chunk['Bid_Price'])\n",
    "\n",
    "    #find the mean of bid price\n",
    "    avg_price = np.mean(chunk['Bid_Price'])\n",
    "\n",
    "    #find the mod of bid price\n",
    "    try:\n",
    "        mod_price = mode(chunk['Bid_Price'])\n",
    "    except StatisticsError:\n",
    "        mod_price = np.nan\n",
    "        \n",
    "    #find the sd of bid price\n",
    "    sd_price = np.std(chunk['Bid_Price'])\n",
    "\n",
    "    print(\"Max bid price: \", max_price, \"\\n\", \"Min bid price: \", min_price, \"\\n\", \n",
    "          \"Mean bid price: \", avg_price, \"\\n\", \"Mod bid price: \", mod_price, \"\\n\",\n",
    "          \"Standard deviation bid price: \", sd_price)"
   ]
  },
  {
   "cell_type": "code",
   "execution_count": 7,
   "metadata": {
    "collapsed": false
   },
   "outputs": [
    {
     "data": {
      "text/plain": [
       "<module 'raw_taq' from '/Users/dav/Projects/dlab-finance/pynbbo/raw_taq.py'>"
      ]
     },
     "execution_count": 7,
     "metadata": {},
     "output_type": "execute_result"
    }
   ],
   "source": [
    "# You can run this if you update the raw_taq.py file\n",
    "from importlib import reload\n",
    "reload(raw_taq)"
   ]
  },
  {
   "cell_type": "markdown",
   "metadata": {},
   "source": [
    "### Here, we grab whatever BBO file we can find"
   ]
  },
  {
   "cell_type": "code",
   "execution_count": 5,
   "metadata": {
    "collapsed": false
   },
   "outputs": [],
   "source": [
    "# I grab the [0]'th fname in the glob\n",
    "fname = glob('../local_data/EQY_US_ALL_BBO_*.zip')[0]\n",
    "test_run = raw_taq.TAQ2Chunks(fname)"
   ]
  },
  {
   "cell_type": "code",
   "execution_count": 6,
   "metadata": {
    "collapsed": false
   },
   "outputs": [],
   "source": [
    "chunk_gen = test_run.convert_taq(20)"
   ]
  },
  {
   "cell_type": "code",
   "execution_count": 26,
   "metadata": {
    "collapsed": false
   },
   "outputs": [
    {
     "data": {
      "text/plain": [
       "generator"
      ]
     },
     "execution_count": 26,
     "metadata": {},
     "output_type": "execute_result"
    }
   ],
   "source": [
    "type(chunk_gen)"
   ]
  },
  {
   "cell_type": "code",
   "execution_count": 7,
   "metadata": {
    "collapsed": false
   },
   "outputs": [
    {
     "data": {
      "text/plain": [
       "(b'P', b'A               ', 0.0, 0, 0.0, 0, b'R', b'P', b'P', 14, b'2', b'2', b' ', b'C', b' ', b' ', b' ', b' ', b' ', b' ', b' ', 1391676960.901)"
      ]
     },
     "execution_count": 7,
     "metadata": {},
     "output_type": "execute_result"
    }
   ],
   "source": [
    "# You can get one chunk this way\n",
    "chunk = next(chunk_gen)\n",
    "chunk[0]"
   ]
  },
  {
   "cell_type": "code",
   "execution_count": 28,
   "metadata": {
    "collapsed": false
   },
   "outputs": [
    {
     "data": {
      "text/plain": [
       "dtype([('Exchange', 'S1'), ('Symbol', 'S16'), ('Bid_Price', '<f8'), ('Bid_Size', '<i4'), ('Ask_Price', '<f8'), ('Ask_Size', '<i4'), ('Quote_Condition', 'S1'), ('Bid_Exchange', 'S1'), ('Ask_Exchange', 'S1'), ('Sequence_Number', '<i8'), ('National_BBO_Ind', 'S1'), ('NASDAQ_BBO_Ind', 'S1'), ('Quote_Cancel_Correction', 'S1'), ('Source_of_Quote', 'S1'), ('Retail_Interest_Indicator_RPI', 'S1'), ('Short_Sale_Restriction_Indicator', 'S1'), ('LULD_BBO_Indicator_CQS', 'S1'), ('LULD_BBO_Indicator_UTP', 'S1'), ('FINRA_ADF_MPID_Indicator', 'S1'), ('SIP_generated_Message_Identifier', 'S1'), ('National_BBO_LULD_Indicator', 'S1'), ('Time', '<f8')])"
      ]
     },
     "execution_count": 28,
     "metadata": {},
     "output_type": "execute_result"
    }
   ],
   "source": [
    "# If you want just the type\n",
    "chunk.dtype"
   ]
  },
  {
   "cell_type": "code",
   "execution_count": 65,
   "metadata": {
    "collapsed": false
   },
   "outputs": [
    {
     "name": "stdout",
     "output_type": "stream",
     "text": [
      "[  0.     0.     0.    41.9   54.07  57.43  56.07   0.     0.     0.     0.\n",
      "   0.     0.     0.     0.     0.     0.     0.     0.     0.  ]\n",
      "[  0.    72.94  60.76  60.76  60.76  60.76  64.    63.29   0.    63.3    0.\n",
      "  63.3    0.    63.29   0.    63.3    0.    63.3    0.    63.3 ]\n"
     ]
    }
   ],
   "source": [
    "# Numpy record arrays support string indexing to get columns\n",
    "print(chunk['Bid_Price'])\n",
    "print(chunk[\"Ask_Price\"])"
   ]
  },
  {
   "cell_type": "code",
   "execution_count": 66,
   "metadata": {
    "collapsed": false
   },
   "outputs": [
    {
     "data": {
      "text/plain": [
       "(b'P', b'A               ', 0.0, 0, 0.0, 0, b'R', b'P', b'P', 14, b'2', b'2', b' ', b'C', b' ', b' ', b' ', b' ', b' ', b' ', b' ', 1391676960.901)"
      ]
     },
     "execution_count": 66,
     "metadata": {},
     "output_type": "execute_result"
    }
   ],
   "source": [
    "# Numeric indexing gives a row\n",
    "chunk[0]"
   ]
  },
  {
   "cell_type": "code",
   "execution_count": 31,
   "metadata": {
    "collapsed": false
   },
   "outputs": [
    {
     "data": {
      "text/plain": [
       "56.07"
      ]
     },
     "execution_count": 31,
     "metadata": {},
     "output_type": "execute_result"
    }
   ],
   "source": [
    "# And you can do both\n",
    "chunk['Bid_Price'][6]"
   ]
  },
  {
   "cell_type": "code",
   "execution_count": 32,
   "metadata": {
    "collapsed": false
   },
   "outputs": [
    {
     "data": {
      "text/plain": [
       "56.07"
      ]
     },
     "execution_count": 32,
     "metadata": {},
     "output_type": "execute_result"
    }
   ],
   "source": [
    "# Or\n",
    "chunk[6]['Bid_Price']"
   ]
  },
  {
   "cell_type": "markdown",
   "metadata": {},
   "source": [
    "## You can also easily convert numpy record arrays to pandas dataframes easily"
   ]
  },
  {
   "cell_type": "code",
   "execution_count": 13,
   "metadata": {
    "collapsed": false
   },
   "outputs": [],
   "source": [
    "chunk_df = pd.DataFrame(chunk)"
   ]
  },
  {
   "cell_type": "code",
   "execution_count": 14,
   "metadata": {
    "collapsed": false
   },
   "outputs": [
    {
     "data": {
      "text/html": [
       "<div>\n",
       "<table border=\"1\" class=\"dataframe\">\n",
       "  <thead>\n",
       "    <tr style=\"text-align: right;\">\n",
       "      <th></th>\n",
       "      <th>Exchange</th>\n",
       "      <th>Symbol</th>\n",
       "      <th>Bid_Price</th>\n",
       "      <th>Bid_Size</th>\n",
       "      <th>Ask_Price</th>\n",
       "      <th>Ask_Size</th>\n",
       "      <th>Quote_Condition</th>\n",
       "      <th>Bid_Exchange</th>\n",
       "      <th>Ask_Exchange</th>\n",
       "      <th>Sequence_Number</th>\n",
       "      <th>...</th>\n",
       "      <th>Quote_Cancel_Correction</th>\n",
       "      <th>Source_of_Quote</th>\n",
       "      <th>Retail_Interest_Indicator_RPI</th>\n",
       "      <th>Short_Sale_Restriction_Indicator</th>\n",
       "      <th>LULD_BBO_Indicator_CQS</th>\n",
       "      <th>LULD_BBO_Indicator_UTP</th>\n",
       "      <th>FINRA_ADF_MPID_Indicator</th>\n",
       "      <th>SIP_generated_Message_Identifier</th>\n",
       "      <th>National_BBO_LULD_Indicator</th>\n",
       "      <th>Time</th>\n",
       "    </tr>\n",
       "  </thead>\n",
       "  <tbody>\n",
       "    <tr>\n",
       "      <th>0</th>\n",
       "      <td>b'P'</td>\n",
       "      <td>b'A               '</td>\n",
       "      <td>0.00</td>\n",
       "      <td>0</td>\n",
       "      <td>0.00</td>\n",
       "      <td>0</td>\n",
       "      <td>b'R'</td>\n",
       "      <td>b'P'</td>\n",
       "      <td>b'P'</td>\n",
       "      <td>14</td>\n",
       "      <td>...</td>\n",
       "      <td>b' '</td>\n",
       "      <td>b'C'</td>\n",
       "      <td>b' '</td>\n",
       "      <td>b' '</td>\n",
       "      <td>b' '</td>\n",
       "      <td>b' '</td>\n",
       "      <td>b' '</td>\n",
       "      <td>b' '</td>\n",
       "      <td>b' '</td>\n",
       "      <td>1.391677e+09</td>\n",
       "    </tr>\n",
       "    <tr>\n",
       "      <th>1</th>\n",
       "      <td>b'P'</td>\n",
       "      <td>b'A               '</td>\n",
       "      <td>0.00</td>\n",
       "      <td>0</td>\n",
       "      <td>72.94</td>\n",
       "      <td>27</td>\n",
       "      <td>b'R'</td>\n",
       "      <td>b'P'</td>\n",
       "      <td>b'P'</td>\n",
       "      <td>76255</td>\n",
       "      <td>...</td>\n",
       "      <td>b' '</td>\n",
       "      <td>b'C'</td>\n",
       "      <td>b' '</td>\n",
       "      <td>b' '</td>\n",
       "      <td>b' '</td>\n",
       "      <td>b' '</td>\n",
       "      <td>b' '</td>\n",
       "      <td>b' '</td>\n",
       "      <td>b' '</td>\n",
       "      <td>1.391691e+09</td>\n",
       "    </tr>\n",
       "    <tr>\n",
       "      <th>2</th>\n",
       "      <td>b'P'</td>\n",
       "      <td>b'A               '</td>\n",
       "      <td>0.00</td>\n",
       "      <td>0</td>\n",
       "      <td>60.76</td>\n",
       "      <td>10</td>\n",
       "      <td>b'R'</td>\n",
       "      <td>b'P'</td>\n",
       "      <td>b'P'</td>\n",
       "      <td>76256</td>\n",
       "      <td>...</td>\n",
       "      <td>b' '</td>\n",
       "      <td>b'C'</td>\n",
       "      <td>b' '</td>\n",
       "      <td>b' '</td>\n",
       "      <td>b' '</td>\n",
       "      <td>b' '</td>\n",
       "      <td>b' '</td>\n",
       "      <td>b' '</td>\n",
       "      <td>b' '</td>\n",
       "      <td>1.391691e+09</td>\n",
       "    </tr>\n",
       "    <tr>\n",
       "      <th>3</th>\n",
       "      <td>b'P'</td>\n",
       "      <td>b'A               '</td>\n",
       "      <td>41.90</td>\n",
       "      <td>27</td>\n",
       "      <td>60.76</td>\n",
       "      <td>10</td>\n",
       "      <td>b'R'</td>\n",
       "      <td>b'P'</td>\n",
       "      <td>b'P'</td>\n",
       "      <td>76257</td>\n",
       "      <td>...</td>\n",
       "      <td>b' '</td>\n",
       "      <td>b'C'</td>\n",
       "      <td>b' '</td>\n",
       "      <td>b' '</td>\n",
       "      <td>b' '</td>\n",
       "      <td>b' '</td>\n",
       "      <td>b' '</td>\n",
       "      <td>b' '</td>\n",
       "      <td>b' '</td>\n",
       "      <td>1.391691e+09</td>\n",
       "    </tr>\n",
       "    <tr>\n",
       "      <th>4</th>\n",
       "      <td>b'P'</td>\n",
       "      <td>b'A               '</td>\n",
       "      <td>54.07</td>\n",
       "      <td>27</td>\n",
       "      <td>60.76</td>\n",
       "      <td>10</td>\n",
       "      <td>b'R'</td>\n",
       "      <td>b'P'</td>\n",
       "      <td>b'P'</td>\n",
       "      <td>76258</td>\n",
       "      <td>...</td>\n",
       "      <td>b' '</td>\n",
       "      <td>b'C'</td>\n",
       "      <td>b' '</td>\n",
       "      <td>b' '</td>\n",
       "      <td>b' '</td>\n",
       "      <td>b' '</td>\n",
       "      <td>b' '</td>\n",
       "      <td>b' '</td>\n",
       "      <td>b' '</td>\n",
       "      <td>1.391691e+09</td>\n",
       "    </tr>\n",
       "    <tr>\n",
       "      <th>5</th>\n",
       "      <td>b'P'</td>\n",
       "      <td>b'A               '</td>\n",
       "      <td>57.43</td>\n",
       "      <td>1</td>\n",
       "      <td>60.76</td>\n",
       "      <td>10</td>\n",
       "      <td>b'R'</td>\n",
       "      <td>b'P'</td>\n",
       "      <td>b'P'</td>\n",
       "      <td>78938</td>\n",
       "      <td>...</td>\n",
       "      <td>b' '</td>\n",
       "      <td>b'C'</td>\n",
       "      <td>b' '</td>\n",
       "      <td>b' '</td>\n",
       "      <td>b' '</td>\n",
       "      <td>b' '</td>\n",
       "      <td>b' '</td>\n",
       "      <td>b' '</td>\n",
       "      <td>b' '</td>\n",
       "      <td>1.391691e+09</td>\n",
       "    </tr>\n",
       "    <tr>\n",
       "      <th>6</th>\n",
       "      <td>b'K'</td>\n",
       "      <td>b'A               '</td>\n",
       "      <td>56.07</td>\n",
       "      <td>3</td>\n",
       "      <td>64.00</td>\n",
       "      <td>1</td>\n",
       "      <td>b'R'</td>\n",
       "      <td>b'K'</td>\n",
       "      <td>b'K'</td>\n",
       "      <td>81017</td>\n",
       "      <td>...</td>\n",
       "      <td>b' '</td>\n",
       "      <td>b'C'</td>\n",
       "      <td>b' '</td>\n",
       "      <td>b' '</td>\n",
       "      <td>b' '</td>\n",
       "      <td>b' '</td>\n",
       "      <td>b' '</td>\n",
       "      <td>b' '</td>\n",
       "      <td>b' '</td>\n",
       "      <td>1.391691e+09</td>\n",
       "    </tr>\n",
       "    <tr>\n",
       "      <th>7</th>\n",
       "      <td>b'T'</td>\n",
       "      <td>b'A               '</td>\n",
       "      <td>0.00</td>\n",
       "      <td>0</td>\n",
       "      <td>63.29</td>\n",
       "      <td>1</td>\n",
       "      <td>b'R'</td>\n",
       "      <td>b'T'</td>\n",
       "      <td>b'T'</td>\n",
       "      <td>81225</td>\n",
       "      <td>...</td>\n",
       "      <td>b' '</td>\n",
       "      <td>b'C'</td>\n",
       "      <td>b' '</td>\n",
       "      <td>b' '</td>\n",
       "      <td>b' '</td>\n",
       "      <td>b' '</td>\n",
       "      <td>b' '</td>\n",
       "      <td>b' '</td>\n",
       "      <td>b' '</td>\n",
       "      <td>1.391691e+09</td>\n",
       "    </tr>\n",
       "    <tr>\n",
       "      <th>8</th>\n",
       "      <td>b'T'</td>\n",
       "      <td>b'A               '</td>\n",
       "      <td>0.00</td>\n",
       "      <td>0</td>\n",
       "      <td>0.00</td>\n",
       "      <td>0</td>\n",
       "      <td>b'R'</td>\n",
       "      <td>b'T'</td>\n",
       "      <td>b'T'</td>\n",
       "      <td>81598</td>\n",
       "      <td>...</td>\n",
       "      <td>b' '</td>\n",
       "      <td>b'C'</td>\n",
       "      <td>b' '</td>\n",
       "      <td>b' '</td>\n",
       "      <td>b' '</td>\n",
       "      <td>b' '</td>\n",
       "      <td>b' '</td>\n",
       "      <td>b' '</td>\n",
       "      <td>b' '</td>\n",
       "      <td>1.391691e+09</td>\n",
       "    </tr>\n",
       "    <tr>\n",
       "      <th>9</th>\n",
       "      <td>b'T'</td>\n",
       "      <td>b'A               '</td>\n",
       "      <td>0.00</td>\n",
       "      <td>0</td>\n",
       "      <td>63.30</td>\n",
       "      <td>1</td>\n",
       "      <td>b'R'</td>\n",
       "      <td>b'T'</td>\n",
       "      <td>b'T'</td>\n",
       "      <td>81606</td>\n",
       "      <td>...</td>\n",
       "      <td>b' '</td>\n",
       "      <td>b'C'</td>\n",
       "      <td>b' '</td>\n",
       "      <td>b' '</td>\n",
       "      <td>b' '</td>\n",
       "      <td>b' '</td>\n",
       "      <td>b' '</td>\n",
       "      <td>b' '</td>\n",
       "      <td>b' '</td>\n",
       "      <td>1.391691e+09</td>\n",
       "    </tr>\n",
       "  </tbody>\n",
       "</table>\n",
       "<p>10 rows × 22 columns</p>\n",
       "</div>"
      ],
      "text/plain": [
       "  Exchange               Symbol  Bid_Price  Bid_Size  Ask_Price  Ask_Size  \\\n",
       "0     b'P'  b'A               '       0.00         0       0.00         0   \n",
       "1     b'P'  b'A               '       0.00         0      72.94        27   \n",
       "2     b'P'  b'A               '       0.00         0      60.76        10   \n",
       "3     b'P'  b'A               '      41.90        27      60.76        10   \n",
       "4     b'P'  b'A               '      54.07        27      60.76        10   \n",
       "5     b'P'  b'A               '      57.43         1      60.76        10   \n",
       "6     b'K'  b'A               '      56.07         3      64.00         1   \n",
       "7     b'T'  b'A               '       0.00         0      63.29         1   \n",
       "8     b'T'  b'A               '       0.00         0       0.00         0   \n",
       "9     b'T'  b'A               '       0.00         0      63.30         1   \n",
       "\n",
       "  Quote_Condition Bid_Exchange Ask_Exchange  Sequence_Number      ...       \\\n",
       "0            b'R'         b'P'         b'P'               14      ...        \n",
       "1            b'R'         b'P'         b'P'            76255      ...        \n",
       "2            b'R'         b'P'         b'P'            76256      ...        \n",
       "3            b'R'         b'P'         b'P'            76257      ...        \n",
       "4            b'R'         b'P'         b'P'            76258      ...        \n",
       "5            b'R'         b'P'         b'P'            78938      ...        \n",
       "6            b'R'         b'K'         b'K'            81017      ...        \n",
       "7            b'R'         b'T'         b'T'            81225      ...        \n",
       "8            b'R'         b'T'         b'T'            81598      ...        \n",
       "9            b'R'         b'T'         b'T'            81606      ...        \n",
       "\n",
       "  Quote_Cancel_Correction Source_of_Quote Retail_Interest_Indicator_RPI  \\\n",
       "0                    b' '            b'C'                          b' '   \n",
       "1                    b' '            b'C'                          b' '   \n",
       "2                    b' '            b'C'                          b' '   \n",
       "3                    b' '            b'C'                          b' '   \n",
       "4                    b' '            b'C'                          b' '   \n",
       "5                    b' '            b'C'                          b' '   \n",
       "6                    b' '            b'C'                          b' '   \n",
       "7                    b' '            b'C'                          b' '   \n",
       "8                    b' '            b'C'                          b' '   \n",
       "9                    b' '            b'C'                          b' '   \n",
       "\n",
       "  Short_Sale_Restriction_Indicator LULD_BBO_Indicator_CQS  \\\n",
       "0                             b' '                   b' '   \n",
       "1                             b' '                   b' '   \n",
       "2                             b' '                   b' '   \n",
       "3                             b' '                   b' '   \n",
       "4                             b' '                   b' '   \n",
       "5                             b' '                   b' '   \n",
       "6                             b' '                   b' '   \n",
       "7                             b' '                   b' '   \n",
       "8                             b' '                   b' '   \n",
       "9                             b' '                   b' '   \n",
       "\n",
       "  LULD_BBO_Indicator_UTP FINRA_ADF_MPID_Indicator  \\\n",
       "0                   b' '                     b' '   \n",
       "1                   b' '                     b' '   \n",
       "2                   b' '                     b' '   \n",
       "3                   b' '                     b' '   \n",
       "4                   b' '                     b' '   \n",
       "5                   b' '                     b' '   \n",
       "6                   b' '                     b' '   \n",
       "7                   b' '                     b' '   \n",
       "8                   b' '                     b' '   \n",
       "9                   b' '                     b' '   \n",
       "\n",
       "  SIP_generated_Message_Identifier National_BBO_LULD_Indicator          Time  \n",
       "0                             b' '                        b' '  1.391677e+09  \n",
       "1                             b' '                        b' '  1.391691e+09  \n",
       "2                             b' '                        b' '  1.391691e+09  \n",
       "3                             b' '                        b' '  1.391691e+09  \n",
       "4                             b' '                        b' '  1.391691e+09  \n",
       "5                             b' '                        b' '  1.391691e+09  \n",
       "6                             b' '                        b' '  1.391691e+09  \n",
       "7                             b' '                        b' '  1.391691e+09  \n",
       "8                             b' '                        b' '  1.391691e+09  \n",
       "9                             b' '                        b' '  1.391691e+09  \n",
       "\n",
       "[10 rows x 22 columns]"
      ]
     },
     "execution_count": 14,
     "metadata": {},
     "output_type": "execute_result"
    }
   ],
   "source": [
    "chunk_df"
   ]
  },
  {
   "cell_type": "code",
   "execution_count": 15,
   "metadata": {
    "collapsed": false
   },
   "outputs": [
    {
     "data": {
      "text/plain": [
       "0    1.391677e+09\n",
       "1    1.391691e+09\n",
       "2    1.391691e+09\n",
       "3    1.391691e+09\n",
       "4    1.391691e+09\n",
       "5    1.391691e+09\n",
       "6    1.391691e+09\n",
       "7    1.391691e+09\n",
       "8    1.391691e+09\n",
       "9    1.391691e+09\n",
       "Name: Time, dtype: float64"
      ]
     },
     "execution_count": 15,
     "metadata": {},
     "output_type": "execute_result"
    }
   ],
   "source": [
    "# note that time is not correctly parsed yet:\n",
    "chunk_df.Time"
   ]
  },
  {
   "cell_type": "markdown",
   "metadata": {},
   "source": [
    "# Goal: Compute some summary statistics across a few securities in the TAQ file\n",
    "\n",
    "Processing an entire TAQ file will take a long time. So, maybe just run through the chunks for the first two securities (you can then exit out of a loop once you see the third security / symbol)."
   ]
  },
  {
   "cell_type": "markdown",
   "metadata": {},
   "source": [
    "## A complete approach"
   ]
  },
  {
   "cell_type": "code",
   "execution_count": 10,
   "metadata": {
    "collapsed": false
   },
   "outputs": [
    {
     "data": {
      "text/plain": [
       "dtype([('Exchange', 'S1'), ('Symbol', 'S16'), ('Bid_Price', '<f8'), ('Bid_Size', '<i4'), ('Ask_Price', '<f8'), ('Ask_Size', '<i4'), ('Quote_Condition', 'S1'), ('Bid_Exchange', 'S1'), ('Ask_Exchange', 'S1'), ('Sequence_Number', '<i8'), ('National_BBO_Ind', 'S1'), ('NASDAQ_BBO_Ind', 'S1'), ('Quote_Cancel_Correction', 'S1'), ('Source_of_Quote', 'S1'), ('Retail_Interest_Indicator_RPI', 'S1'), ('Short_Sale_Restriction_Indicator', 'S1'), ('LULD_BBO_Indicator_CQS', 'S1'), ('LULD_BBO_Indicator_UTP', 'S1'), ('FINRA_ADF_MPID_Indicator', 'S1'), ('SIP_generated_Message_Identifier', 'S1'), ('National_BBO_LULD_Indicator', 'S1'), ('Time', '<f8')])"
      ]
     },
     "execution_count": 10,
     "metadata": {},
     "output_type": "execute_result"
    }
   ],
   "source": [
    "chunk.dtype"
   ]
  },
  {
   "cell_type": "code",
   "execution_count": 8,
   "metadata": {
    "collapsed": false
   },
   "outputs": [],
   "source": [
    "fname = glob('../local_data/EQY_US_ALL_BBO_*.zip')[0]\n",
    "local_taq = raw_taq.TAQ2Chunks(fname)\n",
    "\n",
    "chunk_gen = local_taq.convert_taq(20)\n",
    "first_chunk = next(chunk_gen)\n",
    "curr_symbol = first_chunk['Symbol_root'][0]\n",
    "\n",
    "accum = pd.DataFrame(first_chunk)\n",
    "\n",
    "processed_symbols = 0\n",
    "\n",
    "for chunk in chunk_gen:\n",
    "    where_symbol = curr_symbol == chunk['Symbol_root']\n",
    "    if where_symbol.all():\n",
    "        accum.append(pd.DataFrame(chunk))\n",
    "    else:\n",
    "        same = chunk[where_symbol]\n",
    "        accum.append(pd.DataFrame(same))\n",
    "        \n",
    "        # Compute the stats\n",
    "        print('Current symbol:', curr_symbol, len(curr_symbol), 'records')\n",
    "        print_stats(accum)\n",
    "        processed_symbols += 1\n",
    "        if processed_symbols > 3:\n",
    "            break\n",
    "        \n",
    "        diff = chunk[~where_symbol]\n",
    "        accum = pd.DataFrame(diff)\n",
    "        curr_symbol = accum.Symbol_root[0]"
   ]
  },
  {
   "cell_type": "code",
   "execution_count": 9,
   "metadata": {
    "collapsed": false
   },
   "outputs": [
    {
     "data": {
      "text/plain": [
       "True"
      ]
     },
     "execution_count": 9,
     "metadata": {},
     "output_type": "execute_result"
    }
   ],
   "source": [
    "b'AA              ' == b'AA              '"
   ]
  },
  {
   "cell_type": "markdown",
   "metadata": {},
   "source": [
    "# some simple examples of how generator functions work"
   ]
  },
  {
   "cell_type": "code",
   "execution_count": 16,
   "metadata": {
    "collapsed": false
   },
   "outputs": [],
   "source": [
    "def simple_fun(l):\n",
    "    for item in l:\n",
    "        yield item"
   ]
  },
  {
   "cell_type": "code",
   "execution_count": 17,
   "metadata": {
    "collapsed": false
   },
   "outputs": [],
   "source": [
    "simple_gen = simple_fun(['a', 'b', 1, 2])"
   ]
  },
  {
   "cell_type": "code",
   "execution_count": 18,
   "metadata": {
    "collapsed": false
   },
   "outputs": [
    {
     "data": {
      "text/plain": [
       "generator"
      ]
     },
     "execution_count": 18,
     "metadata": {},
     "output_type": "execute_result"
    }
   ],
   "source": [
    "type(simple_gen)"
   ]
  },
  {
   "cell_type": "code",
   "execution_count": 19,
   "metadata": {
    "collapsed": false
   },
   "outputs": [
    {
     "data": {
      "text/plain": [
       "'a'"
      ]
     },
     "execution_count": 19,
     "metadata": {},
     "output_type": "execute_result"
    }
   ],
   "source": [
    "next(simple_gen)"
   ]
  },
  {
   "cell_type": "code",
   "execution_count": 20,
   "metadata": {
    "collapsed": false
   },
   "outputs": [
    {
     "name": "stdout",
     "output_type": "stream",
     "text": [
      "a\n",
      "b\n",
      "1\n",
      "2\n"
     ]
    }
   ],
   "source": [
    "for item in simple_fun(['a', 'b', 1, 2]):\n",
    "    print(item)"
   ]
  },
  {
   "cell_type": "code",
   "execution_count": null,
   "metadata": {
    "collapsed": true
   },
   "outputs": [],
   "source": []
  }
 ],
 "metadata": {
  "kernelspec": {
   "display_name": "Python 3",
   "language": "python",
   "name": "python3"
  },
  "language_info": {
   "codemirror_mode": {
    "name": "ipython",
    "version": 3
   },
   "file_extension": ".py",
   "mimetype": "text/x-python",
   "name": "python",
   "nbconvert_exporter": "python",
   "pygments_lexer": "ipython3",
   "version": "3.4.3"
  }
 },
 "nbformat": 4,
 "nbformat_minor": 0
}
